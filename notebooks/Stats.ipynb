{
 "cells": [
  {
   "cell_type": "code",
   "execution_count": 1,
   "id": "7841ffd3-39f5-4655-93ff-982d3d2dfd7d",
   "metadata": {},
   "outputs": [],
   "source": [
    "import os\n",
    "# os.environ[\"CUDA_DEVICE_ORDER\"]=\"PCI_BUS_ID\"   # see issue #152\n",
    "# os.environ[\"CUDA_VISIBLE_DEVICES\"]=\"0\"\n",
    "import numpy as np\n",
    "import matplotlib.pyplot as plt\n",
    "import torch\n",
    "import pandas as pd\n",
    "import glob\n",
    "\n",
    "from KITTI_dataset import kitti_dataset,KITTI_collate_fn\n",
    "import torch \n",
    "from detector_models import resnet_backbone,BiFPN\n",
    "from pillar_models import Pillar_Network_SECOND\n",
    "import numpy as np\n",
    "import matplotlib.pyplot as plt\n",
    "from torch.utils.data import DataLoader\n",
    "\n",
    "xyz_range = np.array([0,-40.32,-2,80.64,40.32,3])\n",
    "xy_voxel_size= np.array([0.16,0.16])\n",
    "points_per_pillar = 100\n",
    "n_pillars=12000\n",
    "\n",
    "dataset = kitti_dataset()\n",
    "dataloader = DataLoader(dataset,batch_size=2,collate_fn =KITTI_collate_fn)"
   ]
  },
  {
   "cell_type": "code",
   "execution_count": 2,
   "id": "5de33ee5-09de-40e5-b27d-a0aab055740a",
   "metadata": {},
   "outputs": [],
   "source": [
    "img,(pillars, coord, contains_pillars),(pillar_img_pts,rgb_coors,contains_rgb),outputs = dataset[0]"
   ]
  },
  {
   "cell_type": "code",
   "execution_count": 3,
   "id": "4e537a5b-838b-41af-8b63-66e1aa476f27",
   "metadata": {},
   "outputs": [
    {
     "data": {
      "application/vnd.jupyter.widget-view+json": {
       "model_id": "7924fc739c6441f981a632f76f18b715",
       "version_major": 2,
       "version_minor": 0
      },
      "text/plain": [
       "  0%|          | 0/7000 [00:00<?, ?it/s]"
      ]
     },
     "metadata": {},
     "output_type": "display_data"
    }
   ],
   "source": [
    "from tqdm.notebook import tqdm\n",
    "boxes = []\n",
    "range_l = (xyz_range[3]-xyz_range[0]) #l\n",
    "range_w = (xyz_range[4]-xyz_range[1]) #w\n",
    "range_h = (xyz_range[5]-xyz_range[2]) #h\n",
    "\n",
    "i=0\n",
    "for img,(pillars, coord, contains_pillars),(pillar_img_pts,rgb_coors,contains_rgb),outputs in tqdm(dataset):\n",
    "    # box = (outputs[\"boxes\"][...,3:6]*np.array([[range_l,range_w,range_h]])).cpu().numpy().astype(np.float32)\n",
    "    box = (outputs[\"boxes\"][...,3:6]).cpu().numpy().astype(np.float32)\n",
    "    boxes.append(box)\n",
    "    i+=1\n",
    "    if (i%1000==0):break"
   ]
  },
  {
   "cell_type": "code",
   "execution_count": 4,
   "id": "20dfac48-2d63-46c1-9327-ba6ce3a9d410",
   "metadata": {},
   "outputs": [],
   "source": [
    "stacked_boxes = np.vstack(boxes)\n",
    "df = pd.DataFrame({\"length\":stacked_boxes[:,0],\"width\":stacked_boxes[:,1],\"height\":stacked_boxes[:,2]})"
   ]
  },
  {
   "cell_type": "code",
   "execution_count": 9,
   "id": "68784a9e-41e8-4e3c-b57d-1143d8e2a437",
   "metadata": {},
   "outputs": [],
   "source": [
    "import seaborn as sns\n",
    "from sklearn.cluster import KMeans,SpectralClustering\n",
    "from sklearn.preprocessing import MinMaxScaler\n",
    "N_anchors = 3\n",
    "N_scales = 3"
   ]
  },
  {
   "cell_type": "code",
   "execution_count": 10,
   "id": "e79c1406-96d1-42b5-ba0b-1ac698852428",
   "metadata": {},
   "outputs": [],
   "source": [
    "# !pip install seaborn"
   ]
  },
  {
   "cell_type": "code",
   "execution_count": 11,
   "id": "d40c1d1b-604d-414a-b91d-d66a3a4f8bdf",
   "metadata": {},
   "outputs": [],
   "source": [
    "X = df[[\"length\",\"width\",\"height\"]].values.reshape(-1,3)\n",
    "\n",
    "scaler = MinMaxScaler()\n",
    "scaler.fit(X)\n",
    "X = scaler.transform(X)\n",
    "kmeans = KMeans(n_clusters=N_anchors*N_scales,max_iter=2000,algorithm=\"full\").fit(X)\n",
    "\n",
    "# kmeans = SpectralClustering(n_clusters=N_anchors*N_scales).fit(X)\n",
    "X = scaler.inverse_transform(X)"
   ]
  },
  {
   "cell_type": "code",
   "execution_count": 12,
   "id": "a8cf5e30-639b-4048-bed1-751ec845848a",
   "metadata": {},
   "outputs": [
    {
     "data": {
      "text/plain": [
       "(5264, 3)"
      ]
     },
     "execution_count": 12,
     "metadata": {},
     "output_type": "execute_result"
    }
   ],
   "source": [
    "X.shape"
   ]
  },
  {
   "cell_type": "code",
   "execution_count": 23,
   "id": "0eeef5bd-9215-41db-a8f7-0649a852491f",
   "metadata": {},
   "outputs": [
    {
     "name": "stdout",
     "output_type": "stream",
     "text": [
      "(9, 3)\n"
     ]
    },
    {
     "data": {
      "text/plain": [
       "array([[29.928892 ,  2.6215436,  3.4744444],\n",
       "       [11.149867 ,  2.547778 ,  3.35651  ],\n",
       "       [ 5.7397585,  2.0747826,  2.5928984],\n",
       "       [ 4.453088 ,  1.8177894,  2.0449123],\n",
       "       [ 4.016134 ,  1.684632 ,  1.7784162],\n",
       "       [ 3.960928 ,  1.681103 ,  1.6853147],\n",
       "       [ 3.6925914,  1.5285971,  1.6839278],\n",
       "       [ 1.1686946,  0.7491017,  1.4633904],\n",
       "       [ 1.0629075,  0.5303031,  1.4622321]], dtype=float32)"
      ]
     },
     "execution_count": 23,
     "metadata": {},
     "output_type": "execute_result"
    }
   ],
   "source": [
    "cluster_centers = kmeans.cluster_centers_\n",
    "cluster_centers.sort(axis=0)\n",
    "print(cluster_centers.shape)\n",
    "cluster_centers = scaler.inverse_transform(cluster_centers[::-1])\n",
    "cluster_centers"
   ]
  },
  {
   "cell_type": "code",
   "execution_count": 14,
   "id": "dcd72ff9-2f53-43e1-9626-78b51b5b930c",
   "metadata": {},
   "outputs": [],
   "source": [
    "clusters_dic = {\"anchor_boxes\":cluster_centers,\"N_anchors\":N_anchors,\"N_scales\":N_scales}\n",
    "np.save(\"cluster_kitti_3scales_3anchor2.npy\",clusters_dic)"
   ]
  },
  {
   "cell_type": "code",
   "execution_count": 41,
   "id": "f7f332e8-f9a8-45e1-8d25-8d5a6f027af0",
   "metadata": {},
   "outputs": [
    {
     "name": "stdout",
     "output_type": "stream",
     "text": [
      "(979440,)\n",
      "(48, 371, 55)\n"
     ]
    },
    {
     "data": {
      "image/png": "[encoded data removed]",
      "text/plain": [
       "<Figure size 720x576 with 1 Axes>"
      ]
     },
     "metadata": {
      "needs_background": "light"
     },
     "output_type": "display_data"
    },
    {
     "data": {
      "text/plain": [
       "((48, 371, 55), (48, 371, 55))"
      ]
     },
     "execution_count": 41,
     "metadata": {},
     "output_type": "execute_result"
    }
   ],
   "source": [
    "fig,ax = plt.subplots(1,1,figsize=(10,8))\n",
    "\n",
    "# Step size of the mesh. Decrease to increase the quality of the VQ.\n",
    "h = 0.1  # point in the mesh [x_min, x_max]x[y_min, y_max].\n",
    "\n",
    "# Plot the decision boundary. For that, we will assign a color to each\n",
    "x_min, x_max = X[:, 0].min() - 1, X[:, 0].max() + 1\n",
    "y_min, y_max = X[:, 1].min() - 1, X[:, 1].max() + 1\n",
    "z_min, z_max = X[:, 2].min() - 1, X[:, 2].max() + 1\n",
    "xx, yy, zz = np.meshgrid(np.arange(x_min, x_max, h), np.arange(y_min, y_max, h), np.arange(z_min, z_max, h))\n",
    "\n",
    "# Obtain labels for each point in mesh. Use last trained model.\n",
    "Z = kmeans.predict(scaler.inverse_transform(np.c_[xx.ravel(), yy.ravel(), zz.ravel()].astype(np.float32)))\n",
    "\n",
    "print(Z.shape)\n",
    "# # Put the result into a color plot\n",
    "Z = Z.reshape(xx.shape)\n",
    "print(Z.shape)\n",
    "# # # plt.clf()\n",
    "ax.imshow(\n",
    "    Z.mean(1),\n",
    "    interpolation=\"nearest\",\n",
    "    extent=(xx.min(), xx.max(), yy.min(), yy.max()),\n",
    "    cmap=plt.cm.Paired,\n",
    "    aspect=\"auto\",\n",
    "    origin=\"lower\",\n",
    ")\n",
    "\n",
    "\n",
    "ax.plot(X[:,0],X[:,1],\".k\")\n",
    "ax.plot(cluster_centers[:,0],cluster_centers[:,1],\"wX\", markersize=12,markeredgewidth=2,markeredgecolor=\"k\")\n",
    "# ax.set_xlim([0,1.1])\n",
    "# ax.set_ylim([0,1.1])\n",
    "plt.show()\n",
    "\n",
    "Z.shape,xx.shape"
   ]
  },
  {
   "cell_type": "code",
   "execution_count": 43,
   "id": "48146b20-bab9-47d4-b175-df37bb74e804",
   "metadata": {},
   "outputs": [
    {
     "data": {
      "image/png": "[encoded data removed]",
      "text/plain": [
       "<Figure size 720x720 with 1 Axes>"
      ]
     },
     "metadata": {
      "needs_background": "light"
     },
     "output_type": "display_data"
    }
   ],
   "source": [
    "fig,ax = plt.subplots(1,1,figsize=(10,10))\n",
    "\n",
    "for (w,h),c in zip(cluster_centers[:,:2],plt.cm.Paired.colors):\n",
    "    mx,my = 0-w/2,0-h/2\n",
    "    rect = plt.Rectangle((mx,my),w,h,fill=False,color = c,linewidth=4)\n",
    "    ax.add_artist(rect)\n",
    "ax.set_facecolor((0.2,0.2,0.2))\n",
    "# plt.xlim([-0.5,0.5])\n",
    "# plt.ylim([-0.5,0.5])\n",
    "plt.show()"
   ]
  },
  {
   "cell_type": "code",
   "execution_count": 65,
   "id": "6904ab1a-4fe3-49ed-83b9-eebe0f24113a",
   "metadata": {},
   "outputs": [
    {
     "data": {
      "text/plain": [
       "((0.6509803921568628, 0.807843137254902, 0.8901960784313725),\n",
       " (0.12156862745098039, 0.47058823529411764, 0.7058823529411765),\n",
       " (0.6980392156862745, 0.8745098039215686, 0.5411764705882353),\n",
       " (0.2, 0.6274509803921569, 0.17254901960784313),\n",
       " (0.984313725490196, 0.6039215686274509, 0.6),\n",
       " (0.8901960784313725, 0.10196078431372549, 0.10980392156862745),\n",
       " (0.9921568627450981, 0.7490196078431373, 0.43529411764705883),\n",
       " (1.0, 0.4980392156862745, 0.0),\n",
       " (0.792156862745098, 0.6980392156862745, 0.8392156862745098),\n",
       " (0.41568627450980394, 0.23921568627450981, 0.6039215686274509),\n",
       " (1.0, 1.0, 0.6),\n",
       " (0.6941176470588235, 0.34901960784313724, 0.1568627450980392))"
      ]
     },
     "execution_count": 65,
     "metadata": {},
     "output_type": "execute_result"
    }
   ],
   "source": [
    "plt.cm.Paired.colors"
   ]
  },
  {
   "cell_type": "code",
   "execution_count": null,
   "id": "f8c1d4d0-0e13-485a-9553-d4c8347ec448",
   "metadata": {},
   "outputs": [],
   "source": []
  }
 ],
 "metadata": {
  "kernelspec": {
   "display_name": "Python 3 (ipykernel)",
   "language": "python",
   "name": "python3"
  },
  "language_info": {
   "codemirror_mode": {
    "name": "ipython",
    "version": 3
   },
   "file_extension": ".py",
   "mimetype": "text/x-python",
   "name": "python",
   "nbconvert_exporter": "python",
   "pygments_lexer": "ipython3",
   "version": "3.7.13"
  }
 },
 "nbformat": 4,
 "nbformat_minor": 5
}
