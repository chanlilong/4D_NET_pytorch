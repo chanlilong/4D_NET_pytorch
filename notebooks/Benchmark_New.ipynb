{
 "cells": [
  {
   "cell_type": "code",
   "execution_count": null,
   "id": "6294a78e-3853-49d3-912c-babc0b489128",
   "metadata": {},
   "outputs": [
    {
     "ename": "ModuleNotFoundError",
     "evalue": "No module named 'dataset'",
     "output_type": "error",
     "traceback": [
      "\u001b[0;31m---------------------------------------------------------------------------\u001b[0m",
      "\u001b[0;31mModuleNotFoundError\u001b[0m                       Traceback (most recent call last)",
      "Cell \u001b[0;32mIn[5], line 11\u001b[0m\n\u001b[1;32m      9\u001b[0m \u001b[38;5;28;01mfrom\u001b[39;00m \u001b[38;5;21;01mtorch\u001b[39;00m\u001b[38;5;21;01m.\u001b[39;00m\u001b[38;5;21;01mutils\u001b[39;00m\u001b[38;5;21;01m.\u001b[39;00m\u001b[38;5;21;01mdata\u001b[39;00m \u001b[38;5;28;01mimport\u001b[39;00m DataLoader\n\u001b[1;32m     10\u001b[0m \u001b[38;5;28;01mimport\u001b[39;00m \u001b[38;5;21;01mtorch\u001b[39;00m\u001b[38;5;21;01m.\u001b[39;00m\u001b[38;5;21;01mnn\u001b[39;00m\u001b[38;5;21;01m.\u001b[39;00m\u001b[38;5;21;01mfunctional\u001b[39;00m \u001b[38;5;28;01mas\u001b[39;00m \u001b[38;5;21;01mF\u001b[39;00m\n\u001b[0;32m---> 11\u001b[0m \u001b[38;5;28;01mfrom\u001b[39;00m \u001b[38;5;21;01mdataset\u001b[39;00m\u001b[38;5;21;01m.\u001b[39;00m\u001b[38;5;21;01mKITTI_dataset\u001b[39;00m \u001b[38;5;28;01mimport\u001b[39;00m KittiDataset,KITTI_collate_fn_Wcalib\n\u001b[1;32m     12\u001b[0m \u001b[38;5;28;01mfrom\u001b[39;00m \u001b[38;5;21;01mmodels\u001b[39;00m\u001b[38;5;21;01m.\u001b[39;00m\u001b[38;5;21;01mpillar_models\u001b[39;00m \u001b[38;5;28;01mimport\u001b[39;00m NET_4D_EffDet\n\u001b[1;32m     13\u001b[0m \u001b[38;5;28;01mfrom\u001b[39;00m \u001b[38;5;21;01mtqdm\u001b[39;00m \u001b[38;5;28;01mimport\u001b[39;00m tqdm\n",
      "\u001b[0;31mModuleNotFoundError\u001b[0m: No module named 'dataset'"
     ]
    }
   ],
   "source": [
    "import os\n",
    "os.environ[\"CUDA_DEVICE_ORDER\"]=\"PCI_BUS_ID\"   # see issue #152\n",
    "os.environ[\"CUDA_VISIBLE_DEVICES\"]=\"0\"\n",
    "# import sys\n",
    "# sys.path.append(\"/home/conda/RAID_5_14TB/3d_lidar_detection_evaluation/\")\n",
    "\n",
    "import numpy as np\n",
    "import torch\n",
    "from torch.utils.data import DataLoader\n",
    "import torch.nn.functional as F\n",
    "from dataset.KITTI_dataset import KittiDataset,KITTI_collate_fn_Wcalib\n",
    "from models.pillar_models import NET_4D_EffDet\n",
    "from tqdm import tqdm\n",
    "\n",
    "\n",
    "import matplotlib.pyplot as plt\n",
    "from  matplotlib.transforms import Affine2D \n",
    "from matplotlib.lines import Line2D\n",
    "import pandas as pd\n",
    "from mmcv.ops.iou3d import nms3d,nms3d_normal\n",
    "\n",
    "xyz_range = np.array([0,-40.32,-2,80.64,40.32,3])\n",
    "xy_voxel_size= np.array([0.16,0.16])\n",
    "points_per_pillar = 32\n",
    "n_pillars=12000\n",
    "\n",
    "\n",
    "dataset = KittiDataset(xyz_range = xyz_range,xy_voxel_size= xy_voxel_size,points_per_pillar = points_per_pillar,n_pillars=n_pillars,return_calib=True,test=True)\n",
    "dataloader_vis = DataLoader(dataset, batch_size=1,collate_fn= KITTI_collate_fn_Wcalib, num_workers=1, shuffle=True)\n",
    "\n",
    "anchor_dict = np.load(\"./anchors/cluster_kitti_3scales_3anchor.npy\",allow_pickle=True).item()\n",
    "model_dict = torch.load(\"./weights/model_KITTI_exp.pth\")\n",
    "model = NET_4D_EffDet(anchor_dict,n_classes=4,rgb_deform=False,\\\n",
    "                      n_pnt_pillar=points_per_pillar,\\\n",
    "                      xyz_range=xyz_range,\\\n",
    "                      xy_voxel_size=xy_voxel_size)\n",
    "model.load_state_dict(model_dict[\"params\"],strict=False)\n",
    "model.cuda()\n",
    "model.eval()\n",
    "''"
   ]
  },
  {
   "cell_type": "code",
   "execution_count": 10,
   "id": "bade3ecb-2698-4772-8e45-ba7560ac11d7",
   "metadata": {},
   "outputs": [
    {
     "name": "stderr",
     "output_type": "stream",
     "text": [
      "481it [01:58,  4.06it/s]\n"
     ]
    }
   ],
   "source": [
    "np.random.seed(42)\n",
    "pred_dfs = pd.DataFrame(columns=[\"class\",\"x\",\"y\",\"z\",\"l\",\"w\",\"h\",\"r\",\"score\"])\n",
    "gt_dfs = pd.DataFrame(columns=[\"class\",\"x\",\"y\",\"z\",\"l\",\"w\",\"h\",\"r\",\"score\"])\n",
    "    \n",
    "    \n",
    "    \n",
    "int2clss = {0:\"car\",1:\"pedestrian\",2:\"cyclist\",3:\"misc\"}\n",
    "for idx,(img,(pillars, coord, contains_pillars),(pillar_img_pts,rgb_coors,contains_rgb),targets,calibs) in tqdm(enumerate(dataloader_vis)):\n",
    "\n",
    "    target = targets[0]\n",
    "    gt_boxes= target[\"boxes\"].view(-1,7)\n",
    "    gt_labels= target[\"labels\"].view(-1,1)\n",
    "    gt_labels = [int2clss[x] for x in gt_labels.numpy().flatten()]\n",
    "    gt_df = pd.DataFrame(gt_boxes.numpy(),columns=[\"x\",\"y\",\"z\",\"l\",\"w\",\"h\",\"r\"])\n",
    "    \n",
    "    gt_df[\"class\"] = gt_labels\n",
    "    gt_df[\"score\"] = np.ones(gt_df.shape[0])\n",
    "    \n",
    "    gt_df = gt_df[[\"class\",\"x\",\"y\",\"z\",\"l\",\"w\",\"h\",\"r\",\"score\"]]\n",
    "    gt_df.to_csv(f\"./prediction_eval/gt/{idx:06d}.csv\",sep=\",\",index=False,header=False)\n",
    "    \n",
    "    with torch.no_grad():\n",
    "        outputs,pseudo_img,dynamic_img = model(img.cuda(),pillars.float().cuda(), coord.cuda(), contains_pillars.cuda(),pillar_img_pts.float().cuda(),rgb_coors.cuda(),contains_rgb.cuda())\n",
    "        \n",
    "    probas,_ = outputs['pred_logits'][0, :, 0:].sigmoid().max(-1)\n",
    "    keep = (probas >= 0.1).squeeze()\n",
    "    pred_boxes = outputs['pred_boxes'][0, keep].detach().cpu()\n",
    "    pred_clss = outputs['pred_logits'][0, :, 0:].sigmoid()[keep].argmax(-1).cpu().numpy()\n",
    "    pred_score = probas[keep.type(torch.bool)].float()\n",
    "    \n",
    "    if len(pred_boxes)>0:\n",
    "        pred_idx =nms3d_normal(pred_boxes.cuda(),pred_score,0.1)\n",
    "        pred_boxes = pred_boxes[pred_idx]\n",
    "        pred_score = pred_score[pred_idx]\n",
    "        pred_clss = [int2clss[x] for x in pred_clss[pred_idx.cpu().numpy()]]\n",
    "    \n",
    "    pred_df = pd.DataFrame(pred_boxes.numpy(),columns=[\"x\",\"y\",\"z\",\"l\",\"w\",\"h\",\"r\"])\n",
    "    \n",
    "    \n",
    "    pred_df[\"class\"] = pred_clss\n",
    "    pred_df[\"score\"] = pred_score.cpu().numpy()\n",
    "\n",
    "    \n",
    "    pred_df = pred_df[[\"class\",\"x\",\"y\",\"z\",\"l\",\"w\",\"h\",\"r\",\"score\"]]\n",
    "    \n",
    "    pred_df.to_csv(f\"./prediction_eval/pred/{idx:06d}.csv\",sep=\",\",index=False,header=False)\n",
    "    \n",
    "    # pred_dfs = pred_dfs.append(pred_df)\n",
    "    # gt_dfs = gt_dfs.append(gt_df)\n",
    "    # break\n",
    "    \n",
    "    "
   ]
  },
  {
   "cell_type": "code",
   "execution_count": 11,
   "id": "84826bae-b35a-4497-ad74-af05cdd1264b",
   "metadata": {},
   "outputs": [],
   "source": [
    "# pred_boxes.cuda(),pred_score"
   ]
  },
  {
   "cell_type": "code",
   "execution_count": 12,
   "id": "ebc60975-76ad-4ea4-8b6e-7487e25dc1db",
   "metadata": {},
   "outputs": [
    {
     "name": "stdout",
     "output_type": "stream",
     "text": [
      "Starting evaluation for 481 file predictions\n",
      "--------------------------------------------\n",
      "Confirmation prediction ground truth file pairs.\n",
      "Evaluation examples\n",
      "\n",
      "Done!\n",
      "----------------------------------\n",
      "Calculating metrics for car class\n",
      "----------------------------------\n",
      "Number of ground truth labels:  2087\n",
      "Number of detections:   3520\n",
      "Number of true positives:   1913\n",
      "Number of false positives:   1607\n",
      "(3520, 2)\n",
      "Mean AP: 0.838 \n",
      "F1 Score: 0.844 \n",
      " \n",
      "Average 2D Translation Error [m]:  0.2438 \n",
      "Average 3D Translation Error [m]:  0.2696 \n",
      "Average Scale Error:  0.0906 \n",
      "Average Orientation Error [rad]:  0.1908 \n",
      " \n",
      "Calculating metrics for pedestrian class\n",
      "----------------------------------\n",
      "Number of ground truth labels:  366\n",
      "Number of detections:   1056\n",
      "Number of true positives:   328\n",
      "Number of false positives:   728\n",
      "(1056, 2)\n",
      "Mean AP: 0.702 \n",
      "F1 Score: 0.693 \n",
      " \n",
      "Average 2D Translation Error [m]:  0.2282 \n",
      "Average 3D Translation Error [m]:  0.2499 \n",
      "Average Scale Error:  0.1773 \n",
      "Average Orientation Error [rad]:  0.9101 \n",
      " \n",
      "Calculating metrics for cyclist class\n",
      "----------------------------------\n",
      "Number of ground truth labels:  119\n",
      "Number of detections:   360\n",
      "Number of true positives:   96\n",
      "Number of false positives:   264\n",
      "(360, 2)\n",
      "Mean AP: 0.680 \n",
      "F1 Score: 0.684 \n",
      " \n",
      "Average 2D Translation Error [m]:  0.1626 \n",
      "Average 3D Translation Error [m]:  0.1912 \n",
      "Average Scale Error:  0.1572 \n",
      "Average Orientation Error [rad]:  0.3688 \n",
      " \n",
      "Total evaluation time: 0.75744 \n"
     ]
    },
    {
     "data": {
      "text/plain": [
       "<evaluation_code.nuscenes_eval_core.NuScenesEval at 0x7f1b3f514a90>"
      ]
     },
     "execution_count": 12,
     "metadata": {},
     "output_type": "execute_result"
    },
    {
     "data": {
      "image/png": "[encoded data removed]",
      "text/plain": [
       "<Figure size 432x288 with 1 Axes>"
      ]
     },
     "metadata": {
      "needs_background": "light"
     },
     "output_type": "display_data"
    },
    {
     "data": {
      "image/png": "[encoded data removed]",
      "text/plain": [
       "<Figure size 432x288 with 1 Axes>"
      ]
     },
     "metadata": {
      "needs_background": "light"
     },
     "output_type": "display_data"
    },
    {
     "data": {
      "image/png": "[encoded data removed]",
      "text/plain": [
       "<Figure size 432x288 with 1 Axes>"
      ]
     },
     "metadata": {
      "needs_background": "light"
     },
     "output_type": "display_data"
    }
   ],
   "source": [
    "# !python ./3d_lidar_detection_evaluation/nuscenes_eval.py --pred_labels ./prediction_eval/prediction.txt --gt_labels ./prediction_eval/groundtruth.txt --format \"class x y z l w h r score\"\n",
    "from evaluation_code.nuscenes_eval_core import NuScenesEval\n",
    "NuScenesEval(\"./prediction_eval/pred\", \"./prediction_eval/gt\", \"class x y z l w h r score\",save_loc=\"./\")"
   ]
  },
  {
   "cell_type": "code",
   "execution_count": null,
   "id": "48427e5b-b24a-420f-b84d-701e6eaa7509",
   "metadata": {},
   "outputs": [],
   "source": []
  }
 ],
 "metadata": {
  "kernelspec": {
   "display_name": "base",
   "language": "python",
   "name": "python3"
  },
  "language_info": {
   "codemirror_mode": {
    "name": "ipython",
    "version": 3
   },
   "file_extension": ".py",
   "mimetype": "text/x-python",
   "name": "python",
   "nbconvert_exporter": "python",
   "pygments_lexer": "ipython3",
   "version": "3.11.9"
  }
 },
 "nbformat": 4,
 "nbformat_minor": 5
}
